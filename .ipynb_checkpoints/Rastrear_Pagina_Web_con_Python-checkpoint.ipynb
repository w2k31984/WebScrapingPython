{
 "cells": [
  {
   "cell_type": "code",
   "execution_count": 39,
   "id": "e1ccce83",
   "metadata": {},
   "outputs": [],
   "source": [
    "import requests #Esta libreria hace una solicitud http en python.\n",
    "from bs4 import BeautifulSoup #Libreria nos ayuda a extraer informacion de la pagina que hemos seleccionado\n",
    "import pandas as pd #LIbreria para guardar en archivos .csv"
   ]
  },
  {
   "cell_type": "markdown",
   "id": "f10e5b40",
   "metadata": {},
   "source": [
    "# Peticion GET"
   ]
  },
  {
   "cell_type": "code",
   "execution_count": 40,
   "id": "a7964b49",
   "metadata": {},
   "outputs": [],
   "source": [
    "paginaScrapy = \"https://www.investing.com\" #Pagina a la que ingresaremos\n",
    "pagina = requests.get(paginaScrapy)"
   ]
  },
  {
   "cell_type": "code",
   "execution_count": 41,
   "id": "4d8cf06f",
   "metadata": {},
   "outputs": [
    {
     "name": "stdout",
     "output_type": "stream",
     "text": [
      "<Response [403]>\n"
     ]
    }
   ],
   "source": [
    "print(pagina)"
   ]
  },
  {
   "cell_type": "code",
   "execution_count": 42,
   "id": "90d45411",
   "metadata": {},
   "outputs": [],
   "source": [
    "head = {\"User-Agent\":\"Mozilla/5.0 (Windows NT 10.0; Win64; x64) AppleWebKit/537.36 (KHTML, like Gecko) Chrome/90.0.4430.212 Safari/537.36\"}\n",
    "pagina = requests.get(paginaScrapy, headers= head) #Linea de head la obtenemos de Network al cargar la pagina en inspeccionar en navegador"
   ]
  },
  {
   "cell_type": "code",
   "execution_count": 43,
   "id": "2fa941ca",
   "metadata": {},
   "outputs": [
    {
     "name": "stdout",
     "output_type": "stream",
     "text": [
      "<Response [200]>\n"
     ]
    }
   ],
   "source": [
    "print(pagina)"
   ]
  },
  {
   "cell_type": "markdown",
   "id": "7157375e",
   "metadata": {},
   "source": [
    "# Peticion Html con LXML"
   ]
  },
  {
   "cell_type": "code",
   "execution_count": 44,
   "id": "1ae36d94",
   "metadata": {},
   "outputs": [
    {
     "name": "stdout",
     "output_type": "stream",
     "text": [
      "<html><head><title>Hola Scrapy</title></head></html>\n"
     ]
    }
   ],
   "source": [
    "soup = BeautifulSoup(\"<html><title>Hola Scrapy</title></html>\", \"lxml\")\n",
    "print(soup)\n"
   ]
  },
  {
   "cell_type": "markdown",
   "id": "01e1ba16",
   "metadata": {},
   "source": [
    "# Peticion HTML con HTML.Parser"
   ]
  },
  {
   "cell_type": "code",
   "execution_count": null,
   "id": "216d3027",
   "metadata": {},
   "outputs": [],
   "source": [
    "soup = BeautifulSoup(\"<html><title>Hola Scrapy</title></html>\", \"html.parser\")\n"
   ]
  },
  {
   "cell_type": "code",
   "execution_count": 45,
   "id": "9ed7bbbe",
   "metadata": {},
   "outputs": [
    {
     "name": "stdout",
     "output_type": "stream",
     "text": [
      "<html><title>Hola Scrapy</title></html>\n"
     ]
    }
   ],
   "source": [
    "print(soup)"
   ]
  },
  {
   "cell_type": "markdown",
   "id": "a883fa8f",
   "metadata": {},
   "source": [
    "# Ejercicio practico extrayendo titulo de la pagina."
   ]
  },
  {
   "cell_type": "code",
   "execution_count": 47,
   "id": "5343322b",
   "metadata": {},
   "outputs": [
    {
     "name": "stdout",
     "output_type": "stream",
     "text": [
      "Investing.com - Stock Market Quotes & Financial News\n"
     ]
    }
   ],
   "source": [
    "soup = BeautifulSoup(pagina.text, \"html.parser\")\n",
    "print(soup.title.string) #Nos imprimira el titulo de la pagina en una cadena"
   ]
  },
  {
   "cell_type": "markdown",
   "id": "fbb66405",
   "metadata": {},
   "source": [
    "# Extrayendo datos con BeautifulSoup de la pagina web tabla de cryptomonedas."
   ]
  },
  {
   "cell_type": "code",
   "execution_count": 62,
   "id": "bc63133b",
   "metadata": {},
   "outputs": [
    {
     "name": "stdout",
     "output_type": "stream",
     "text": [
      "------------------\n",
      "Valor del Bitcoin (USD): 37,081.3\n",
      "------------------\n"
     ]
    }
   ],
   "source": [
    "tablaCryptoMonedas = soup.find(class_= 'genTbl js-all-crypto-preview-table wideTbl elpTbl elp20 topCryptoHP') #Seleccionando el objeto tabla de cryptomonedas de la pagina\n",
    "tr_all = tablaCryptoMonedas.find_all('tr',{'i': '1057391'})                                \n",
    "precio = tr_all[0].find_all('td',{'class':'price js-currency-price'}) #Buscamos el valor del precio como es 1 nosotros colacmos cero y el nombre de la clase.\n",
    "\n",
    "print('------------------')\n",
    "print('Valor del Bitcoin (USD): {0}'.format(precio[0].get_text())) #Imprime el valor del BTC en dolares del momento.\n",
    "print('------------------')\n"
   ]
  },
  {
   "cell_type": "markdown",
   "id": "91e88c33",
   "metadata": {},
   "source": [
    "# Valor Completo de todas las cryptomonedas desde la pagina."
   ]
  },
  {
   "cell_type": "code",
   "execution_count": 73,
   "id": "dbc8fc1d",
   "metadata": {},
   "outputs": [
    {
     "name": "stdout",
     "output_type": "stream",
     "text": [
      "------------------\n",
      "Valor en Bitcoin (USD): 37,081.3\n",
      "------------------\n",
      "Valor en Ethereum (USD): 2,625.94\n",
      "------------------\n",
      "Valor en Tether (USD): 1.0005\n",
      "------------------\n",
      "Valor en Cardano (USD): 1.668749\n",
      "------------------\n",
      "Valor en Binance Coin (USD): 348.35\n"
     ]
    }
   ],
   "source": [
    "tablaCryptoMonedas = soup.find(class_= 'genTbl js-all-crypto-preview-table wideTbl elpTbl elp20 topCryptoHP') #Seleccionando el objeto tabla de cryptomonedas de la pagina\n",
    "tr_all = tablaCryptoMonedas.find_all('tr') #Leyendo los tr de esa tabla.\n",
    "#Haciendo recorrido completo de la lista con For.\n",
    "for sub_tr in tr_all:\n",
    "    Nombre = sub_tr.find_all('td',{'class': 'left bold elp name cryptoName first js-currency-name'})\n",
    "    Precio = sub_tr.find_all('td',{'class': 'price js-currency-price'})\n",
    "    if(Nombre!=[]):\n",
    "        print('------------------')\n",
    "        print('Valor en {0} (USD): {1}'.format(Nombre[0].get_text(),Precio[0].get_text()))"
   ]
  },
  {
   "cell_type": "markdown",
   "id": "52e24005",
   "metadata": {},
   "source": [
    "# Guardar en lista el nombre y precio de cryptomonedas y luego en archivo.csv con libreria pandas"
   ]
  },
  {
   "cell_type": "code",
   "execution_count": 84,
   "id": "b05b56fe",
   "metadata": {},
   "outputs": [
    {
     "name": "stdout",
     "output_type": "stream",
     "text": [
      "                                   0\n",
      "0  Lenguaje;usuarios;hombres;mujeres\n",
      "1                    Python;56;30;26\n",
      "2                       Java;21;8;13\n",
      "3                     Scala;32;15;17\n",
      "4                           R;12;9;3\n",
      "5                        C#;23;10;13\n",
      "6                        JS;35;15;20\n"
     ]
    }
   ],
   "source": [
    "archivo = pd.read_csv(r\"C:\\Users\\cristian_parada\\Documents\\Web_Scrapping_Python\\lenguajes_usuarios.csv\", header=None) #El header none sirve para que no aparezca cabecera\n",
    "print(archivo)"
   ]
  },
  {
   "cell_type": "code",
   "execution_count": null,
   "id": "acd44d9b",
   "metadata": {},
   "outputs": [],
   "source": []
  }
 ],
 "metadata": {
  "kernelspec": {
   "display_name": "Python 3",
   "language": "python",
   "name": "python3"
  },
  "language_info": {
   "codemirror_mode": {
    "name": "ipython",
    "version": 3
   },
   "file_extension": ".py",
   "mimetype": "text/x-python",
   "name": "python",
   "nbconvert_exporter": "python",
   "pygments_lexer": "ipython3",
   "version": "3.8.8"
  }
 },
 "nbformat": 4,
 "nbformat_minor": 5
}
